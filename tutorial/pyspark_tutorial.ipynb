{
 "cells": [
  {
   "cell_type": "code",
   "execution_count": 5,
   "metadata": {},
   "outputs": [],
   "source": [
    "from pyspark.sql import SparkSession\n",
    "import findspark\n",
    "findspark.init()\n",
    "\n",
    "\n",
    "spark = (SparkSession\n",
    "         .builder\n",
    "         .appName(\"pyspark_tutorial\")\n",
    "         .master(\"local\")\n",
    "         # .config(\"hive.merge.mapfiles\", \"false\")\n",
    "         # .config(\"hive.merge.tezfiles\", \"false\")\n",
    "         # .config(\"parquet.enable.summary-metadata\", \"false\")\n",
    "         # .config(\"spark.sql.parquet.mergeSchema\",\"false\")\n",
    "         # .config(\"hive.merge.smallfiles.avgsize\", \"160000000\")\n",
    "         # .config(\"hive.exec.dynamic.partition\", \"true\")\n",
    "         # .config(\"hive.exec.dynamic.partition.mode\", \"nonstrict\")\n",
    "         # .config(\"spark.sql.orc.impl\", \"native\")\n",
    "         # .config(\"spark.sql.parquet.binaryAsString\",\"true\")\n",
    "         # .config(\"spark.sql.parquet.writeLegacyFormat\",\"true\")\n",
    "         # .config(“spark.sql.streaming.checkpointLocation”, “hdfs://pp/apps/hive/warehouse/dev01_landing_initial_area.db”)\n",
    "         .enableHiveSupport()\n",
    "         .getOrCreate()\n",
    "         )\n"
   ]
  },
  {
   "cell_type": "code",
   "execution_count": 6,
   "metadata": {},
   "outputs": [
    {
     "data": {
      "text/html": [
       "\n",
       "            <div>\n",
       "                <p><b>SparkSession - hive</b></p>\n",
       "                \n",
       "        <div>\n",
       "            <p><b>SparkContext</b></p>\n",
       "\n",
       "            <p><a href=\"http://host.docker.internal:4040\">Spark UI</a></p>\n",
       "\n",
       "            <dl>\n",
       "              <dt>Version</dt>\n",
       "                <dd><code>v3.3.0</code></dd>\n",
       "              <dt>Master</dt>\n",
       "                <dd><code>local</code></dd>\n",
       "              <dt>AppName</dt>\n",
       "                <dd><code>pyspark_tutorial</code></dd>\n",
       "            </dl>\n",
       "        </div>\n",
       "        \n",
       "            </div>\n",
       "        "
      ],
      "text/plain": [
       "<pyspark.sql.session.SparkSession at 0x218ebfedd90>"
      ]
     },
     "execution_count": 6,
     "metadata": {},
     "output_type": "execute_result"
    }
   ],
   "source": [
    "spark\n"
   ]
  },
  {
   "cell_type": "code",
   "execution_count": 8,
   "metadata": {},
   "outputs": [],
   "source": [
    "sc = spark.sparkContext\n"
   ]
  },
  {
   "attachments": {},
   "cell_type": "markdown",
   "metadata": {},
   "source": [
    "## Add-indices"
   ]
  },
  {
   "cell_type": "code",
   "execution_count": 9,
   "metadata": {},
   "outputs": [
    {
     "data": {
      "text/plain": [
       "[('g1', 2), ('g2', 4), ('g3', 3), ('g4', 8)]"
      ]
     },
     "execution_count": 9,
     "metadata": {},
     "output_type": "execute_result"
    }
   ],
   "source": [
    "a = [('g1', 2), ('g2', 4), ('g3', 3), ('g4', 8)]\n",
    "rdd = sc.parallelize(a)\n",
    "rdd.collect()\n"
   ]
  },
  {
   "cell_type": "code",
   "execution_count": 10,
   "metadata": {},
   "outputs": [
    {
     "data": {
      "text/plain": [
       "[('g1', 2), ('g2', 4), ('g3', 3), ('g4', 8)]"
      ]
     },
     "execution_count": 10,
     "metadata": {},
     "output_type": "execute_result"
    }
   ],
   "source": [
    "sorted = rdd.sortByKey()\n",
    "sorted.collect()\n"
   ]
  },
  {
   "cell_type": "code",
   "execution_count": 23,
   "metadata": {},
   "outputs": [
    {
     "data": {
      "text/plain": [
       "[(2, 'g1'), (4, 'g2'), (3, 'g3'), (8, 'g4')]"
      ]
     },
     "execution_count": 23,
     "metadata": {},
     "output_type": "execute_result"
    }
   ],
   "source": [
    "#rdd2 = rdd.map(lambda (x,y) : (y,x))\n",
    "rdd2 = rdd.map(lambda xy: (xy[1], xy[0]))\n",
    "\n",
    "rdd2.collect()\n"
   ]
  },
  {
   "cell_type": "code",
   "execution_count": 24,
   "metadata": {},
   "outputs": [
    {
     "data": {
      "text/plain": [
       "[(2, 'g1'), (3, 'g3'), (4, 'g2'), (8, 'g4')]"
      ]
     },
     "execution_count": 24,
     "metadata": {},
     "output_type": "execute_result"
    }
   ],
   "source": [
    "sorted = rdd2.sortByKey()\n",
    "sorted.collect()"
   ]
  },
  {
   "cell_type": "code",
   "execution_count": 25,
   "metadata": {},
   "outputs": [
    {
     "data": {
      "text/plain": [
       "[(8, 'g4'), (4, 'g2'), (3, 'g3'), (2, 'g1')]"
      ]
     },
     "execution_count": 25,
     "metadata": {},
     "output_type": "execute_result"
    }
   ],
   "source": [
    "# decresing \n",
    "sorted = rdd2.sortByKey(False)\n",
    "sorted.collect()"
   ]
  },
  {
   "cell_type": "code",
   "execution_count": 26,
   "metadata": {},
   "outputs": [
    {
     "data": {
      "text/plain": [
       "[((8, 'g4'), 0), ((4, 'g2'), 1), ((3, 'g3'), 2), ((2, 'g1'), 3)]"
      ]
     },
     "execution_count": 26,
     "metadata": {},
     "output_type": "execute_result"
    }
   ],
   "source": [
    "indices = sorted.zipWithIndex()\n",
    "indices.collect()"
   ]
  },
  {
   "cell_type": "code",
   "execution_count": 27,
   "metadata": {},
   "outputs": [
    {
     "data": {
      "text/plain": [
       "[1, 2, 3, 4, 5, 6, 7, 8, 20]"
      ]
     },
     "execution_count": 27,
     "metadata": {},
     "output_type": "execute_result"
    }
   ],
   "source": [
    "nums = sc.parallelize([1, 2, 3, 4, 5, 6, 7, 8, 20])\n",
    "nums.collect()"
   ]
  },
  {
   "attachments": {},
   "cell_type": "markdown",
   "metadata": {},
   "source": [
    "## Average"
   ]
  },
  {
   "cell_type": "code",
   "execution_count": 28,
   "metadata": {},
   "outputs": [
    {
     "data": {
      "text/plain": [
       "(56, 9)"
      ]
     },
     "execution_count": 28,
     "metadata": {},
     "output_type": "execute_result"
    }
   ],
   "source": [
    "sumAndCount = nums.map(lambda x: (x, 1)).fold((0, 0), (lambda x, y: (x[0] + y[0], x[1] + y[1])))\n",
    "\n",
    "sumAndCount"
   ]
  },
  {
   "cell_type": "code",
   "execution_count": 29,
   "metadata": {},
   "outputs": [
    {
     "data": {
      "text/plain": [
       "6.222222222222222"
      ]
     },
     "execution_count": 29,
     "metadata": {},
     "output_type": "execute_result"
    }
   ],
   "source": [
    "avg = float(sumAndCount[0]) / float(sumAndCount[1])\n",
    "avg"
   ]
  },
  {
   "attachments": {},
   "cell_type": "markdown",
   "metadata": {},
   "source": [
    "## - Filter"
   ]
  },
  {
   "cell_type": "code",
   "execution_count": 30,
   "metadata": {},
   "outputs": [
    {
     "data": {
      "text/plain": [
       "[1, 3, 5, 7]"
      ]
     },
     "execution_count": 30,
     "metadata": {},
     "output_type": "execute_result"
    }
   ],
   "source": [
    "filtered1 = nums.filter(lambda x : x % 2 == 1)\n",
    "filtered1.collect()"
   ]
  },
  {
   "cell_type": "code",
   "execution_count": 31,
   "metadata": {},
   "outputs": [
    {
     "data": {
      "text/plain": [
       "[2, 4, 6, 8, 20]"
      ]
     },
     "execution_count": 31,
     "metadata": {},
     "output_type": "execute_result"
    }
   ],
   "source": [
    "filtered2 = nums.filter(lambda x : x % 2 == 0)\n",
    "filtered2.collect()"
   ]
  },
  {
   "attachments": {},
   "cell_type": "markdown",
   "metadata": {},
   "source": [
    "##  Join"
   ]
  },
  {
   "cell_type": "code",
   "execution_count": 36,
   "metadata": {},
   "outputs": [],
   "source": [
    "%%bash\n",
    "cat > R.txt\n",
    "k1,v1\n",
    "k1,v2\n",
    "k2,v3\n",
    "k2,v4\n",
    "k3,v7\n",
    "k3,v8\n",
    "k3,v9\n",
    "\n"
   ]
  },
  {
   "cell_type": "code",
   "execution_count": 37,
   "metadata": {},
   "outputs": [],
   "source": [
    "%%bash\n",
    "\n",
    "cat > S.txt\n",
    "k1,v11\n",
    "k1,v22\n",
    "k1,v33\n",
    "k2,v55\n",
    "k4,v77\n",
    "k5,v88"
   ]
  },
  {
   "cell_type": "code",
   "execution_count": 39,
   "metadata": {},
   "outputs": [
    {
     "data": {
      "text/plain": [
       "['k1,v1', 'k1,v2', 'k2,v3', 'k2,v4', 'k3,v7', 'k3,v8', 'k3,v9', '']"
      ]
     },
     "execution_count": 39,
     "metadata": {},
     "output_type": "execute_result"
    }
   ],
   "source": [
    "R = sc.textFile(\"R.txt\")\n",
    "R.collect()"
   ]
  },
  {
   "cell_type": "code",
   "execution_count": 40,
   "metadata": {},
   "outputs": [
    {
     "data": {
      "text/plain": [
       "['k1,v11', 'k1,v22', 'k1,v33', 'k2,v55', 'k4,v77', 'k5,v88']"
      ]
     },
     "execution_count": 40,
     "metadata": {},
     "output_type": "execute_result"
    }
   ],
   "source": [
    "\n",
    "S = sc.textFile(\"S.txt\");\n",
    "S.collect()"
   ]
  },
  {
   "cell_type": "code",
   "execution_count": 41,
   "metadata": {},
   "outputs": [
    {
     "data": {
      "text/plain": [
       "[['k1', 'v1'],\n",
       " ['k1', 'v2'],\n",
       " ['k2', 'v3'],\n",
       " ['k2', 'v4'],\n",
       " ['k3', 'v7'],\n",
       " ['k3', 'v8'],\n",
       " ['k3', 'v9'],\n",
       " ['']]"
      ]
     },
     "execution_count": 41,
     "metadata": {},
     "output_type": "execute_result"
    }
   ],
   "source": [
    "r1 = R.map(lambda s: s.split(\",\"))\n",
    "r1.collect()"
   ]
  },
  {
   "cell_type": "code",
   "execution_count": 48,
   "metadata": {},
   "outputs": [],
   "source": [
    "## !!!!! empty list will cause an error !!!!!\n",
    "\n",
    "filtered_rdd = r1.filter(lambda x: x != [''])"
   ]
  },
  {
   "cell_type": "code",
   "execution_count": 49,
   "metadata": {},
   "outputs": [
    {
     "data": {
      "text/plain": [
       "[('k1', 'v1'),\n",
       " ('k1', 'v2'),\n",
       " ('k2', 'v3'),\n",
       " ('k2', 'v4'),\n",
       " ('k3', 'v7'),\n",
       " ('k3', 'v8'),\n",
       " ('k3', 'v9')]"
      ]
     },
     "execution_count": 49,
     "metadata": {},
     "output_type": "execute_result"
    }
   ],
   "source": [
    "r2 = filtered_rdd.flatMap(lambda s: [(s[0], s[1])])\n",
    "r2.collect()"
   ]
  },
  {
   "cell_type": "code",
   "execution_count": 50,
   "metadata": {},
   "outputs": [
    {
     "data": {
      "text/plain": [
       "[['k1', 'v11'],\n",
       " ['k1', 'v22'],\n",
       " ['k1', 'v33'],\n",
       " ['k2', 'v55'],\n",
       " ['k4', 'v77'],\n",
       " ['k5', 'v88']]"
      ]
     },
     "execution_count": 50,
     "metadata": {},
     "output_type": "execute_result"
    }
   ],
   "source": [
    "s1 = S.map(lambda s: s.split(\",\"))\n",
    "s1.collect()"
   ]
  },
  {
   "cell_type": "code",
   "execution_count": 51,
   "metadata": {},
   "outputs": [
    {
     "data": {
      "text/plain": [
       "[('k1', 'v11'),\n",
       " ('k1', 'v22'),\n",
       " ('k1', 'v33'),\n",
       " ('k2', 'v55'),\n",
       " ('k4', 'v77'),\n",
       " ('k5', 'v88')]"
      ]
     },
     "execution_count": 51,
     "metadata": {},
     "output_type": "execute_result"
    }
   ],
   "source": [
    "s2 = s1.flatMap(lambda s: [(s[0], s[1])])\n",
    "s2.collect()"
   ]
  },
  {
   "cell_type": "code",
   "execution_count": 52,
   "metadata": {},
   "outputs": [
    {
     "data": {
      "text/plain": [
       "[('k2', ('v3', 'v55')),\n",
       " ('k2', ('v4', 'v55')),\n",
       " ('k1', ('v1', 'v11')),\n",
       " ('k1', ('v1', 'v22')),\n",
       " ('k1', ('v1', 'v33')),\n",
       " ('k1', ('v2', 'v11')),\n",
       " ('k1', ('v2', 'v22')),\n",
       " ('k1', ('v2', 'v33'))]"
      ]
     },
     "execution_count": 52,
     "metadata": {},
     "output_type": "execute_result"
    }
   ],
   "source": [
    "RjoinedS = r2.join(s2)\n",
    "RjoinedS.collect()"
   ]
  },
  {
   "attachments": {},
   "cell_type": "markdown",
   "metadata": {},
   "source": [
    "##  Map"
   ]
  },
  {
   "cell_type": "code",
   "execution_count": 53,
   "metadata": {},
   "outputs": [
    {
     "data": {
      "text/plain": [
       "[1, 2, 3, 4, 5]"
      ]
     },
     "execution_count": 53,
     "metadata": {},
     "output_type": "execute_result"
    }
   ],
   "source": [
    "nums = sc.parallelize([1, 2, 3, 4, 5])\n",
    "nums.collect()"
   ]
  },
  {
   "cell_type": "code",
   "execution_count": 54,
   "metadata": {},
   "outputs": [
    {
     "data": {
      "text/plain": [
       "[3, 4, 5, 6, 7]"
      ]
     },
     "execution_count": 54,
     "metadata": {},
     "output_type": "execute_result"
    }
   ],
   "source": [
    "bytwo = nums.map(lambda x: x + 2)\n",
    "bytwo.collect()"
   ]
  },
  {
   "cell_type": "code",
   "execution_count": 55,
   "metadata": {},
   "outputs": [
    {
     "data": {
      "text/plain": [
       "[1, 4, 9, 16, 25]"
      ]
     },
     "execution_count": 55,
     "metadata": {},
     "output_type": "execute_result"
    }
   ],
   "source": [
    "squared = nums.map(lambda x: x * x)\n",
    "squared.collect()"
   ]
  },
  {
   "attachments": {},
   "cell_type": "markdown",
   "metadata": {},
   "source": [
    "##  Multiply "
   ]
  },
  {
   "cell_type": "code",
   "execution_count": 57,
   "metadata": {},
   "outputs": [
    {
     "data": {
      "text/plain": [
       "24"
      ]
     },
     "execution_count": 57,
     "metadata": {},
     "output_type": "execute_result"
    }
   ],
   "source": [
    "numbers = sc.parallelize([1, 2, 3, 4])\n",
    "mult = numbers.fold(1, (lambda x, y: x * y))\n",
    "mult"
   ]
  },
  {
   "attachments": {},
   "cell_type": "markdown",
   "metadata": {},
   "source": [
    "##  Sort"
   ]
  },
  {
   "cell_type": "code",
   "execution_count": 59,
   "metadata": {},
   "outputs": [],
   "source": [
    "%%bash\n",
    "\n",
    "cat >> data.txt\n",
    "crazy crazy fox jumped\n",
    "crazy fox jumped\n",
    "fox is fast\n",
    "fox is smart\n",
    "dog is smart"
   ]
  },
  {
   "cell_type": "code",
   "execution_count": 60,
   "metadata": {},
   "outputs": [
    {
     "data": {
      "text/plain": [
       "['crazy crazy fox jumped',\n",
       " 'crazy fox jumped',\n",
       " 'fox is fast',\n",
       " 'fox is smart',\n",
       " 'dog is smart']"
      ]
     },
     "execution_count": 60,
     "metadata": {},
     "output_type": "execute_result"
    }
   ],
   "source": [
    "lines = sc.textFile('data.txt', 1);\n",
    "lines.collect()"
   ]
  },
  {
   "cell_type": "code",
   "execution_count": 61,
   "metadata": {},
   "outputs": [
    {
     "data": {
      "text/plain": [
       "[('crazy', 3),\n",
       " ('fox', 4),\n",
       " ('jumped', 2),\n",
       " ('is', 3),\n",
       " ('fast', 1),\n",
       " ('smart', 2),\n",
       " ('dog', 1)]"
      ]
     },
     "execution_count": 61,
     "metadata": {},
     "output_type": "execute_result"
    }
   ],
   "source": [
    "frequencies = lines.flatMap(lambda x: x.split(' ')).map(lambda x: (x, 1)).reduceByKey(lambda x, y: x + y)\n",
    "frequencies.collect()"
   ]
  },
  {
   "cell_type": "code",
   "execution_count": 62,
   "metadata": {},
   "outputs": [
    {
     "data": {
      "text/plain": [
       "7"
      ]
     },
     "execution_count": 62,
     "metadata": {},
     "output_type": "execute_result"
    }
   ],
   "source": [
    "frequencies.count()"
   ]
  },
  {
   "cell_type": "code",
   "execution_count": 63,
   "metadata": {},
   "outputs": [
    {
     "data": {
      "text/plain": [
       "[('crazy', 3),\n",
       " ('dog', 1),\n",
       " ('fast', 1),\n",
       " ('fox', 4),\n",
       " ('is', 3),\n",
       " ('jumped', 2),\n",
       " ('smart', 2)]"
      ]
     },
     "execution_count": 63,
     "metadata": {},
     "output_type": "execute_result"
    }
   ],
   "source": [
    "sorted = frequencies.sortByKey()\n",
    "sorted.collect()"
   ]
  },
  {
   "cell_type": "code",
   "execution_count": 64,
   "metadata": {},
   "outputs": [
    {
     "data": {
      "text/plain": [
       "[('smart', 2),\n",
       " ('jumped', 2),\n",
       " ('is', 3),\n",
       " ('fox', 4),\n",
       " ('fast', 1),\n",
       " ('dog', 1),\n",
       " ('crazy', 3)]"
      ]
     },
     "execution_count": 64,
     "metadata": {},
     "output_type": "execute_result"
    }
   ],
   "source": [
    "sortedDescending = frequencies.sortByKey(False)\n",
    "sortedDescending.collect()"
   ]
  },
  {
   "attachments": {},
   "cell_type": "markdown",
   "metadata": {},
   "source": [
    "##  Sum\n"
   ]
  },
  {
   "cell_type": "code",
   "execution_count": 65,
   "metadata": {},
   "outputs": [
    {
     "data": {
      "text/plain": [
       "10"
      ]
     },
     "execution_count": 65,
     "metadata": {},
     "output_type": "execute_result"
    }
   ],
   "source": [
    "numbers = sc.parallelize([1, 2, 3, 4])\n",
    "sum = numbers.fold(0, (lambda x, y: x + y))\n",
    "\n",
    "sum\n"
   ]
  },
  {
   "attachments": {},
   "cell_type": "markdown",
   "metadata": {},
   "source": [
    "## Union "
   ]
  },
  {
   "cell_type": "code",
   "execution_count": 66,
   "metadata": {},
   "outputs": [
    {
     "data": {
      "text/plain": [
       "[('k1', 1), ('k2', 2), ('k3', 5)]"
      ]
     },
     "execution_count": 66,
     "metadata": {},
     "output_type": "execute_result"
    }
   ],
   "source": [
    "d1= [('k1', 1), ('k2', 2), ('k3', 5)]\n",
    "d1"
   ]
  },
  {
   "cell_type": "code",
   "execution_count": 67,
   "metadata": {},
   "outputs": [
    {
     "data": {
      "text/plain": [
       "[('k1', 3), ('k2', 4), ('k4', 8)]"
      ]
     },
     "execution_count": 67,
     "metadata": {},
     "output_type": "execute_result"
    }
   ],
   "source": [
    "d2= [('k1', 3), ('k2',4), ('k4', 8)]\n",
    "d2 "
   ]
  },
  {
   "cell_type": "code",
   "execution_count": 69,
   "metadata": {},
   "outputs": [
    {
     "data": {
      "text/plain": [
       "[('k1', 1), ('k2', 2), ('k3', 5)]"
      ]
     },
     "execution_count": 69,
     "metadata": {},
     "output_type": "execute_result"
    }
   ],
   "source": [
    "rdd1 = sc.parallelize(d1)\n",
    "rdd1.collect()\n"
   ]
  },
  {
   "cell_type": "code",
   "execution_count": 70,
   "metadata": {},
   "outputs": [
    {
     "data": {
      "text/plain": [
       "[('k1', 3), ('k2', 4), ('k4', 8)]"
      ]
     },
     "execution_count": 70,
     "metadata": {},
     "output_type": "execute_result"
    }
   ],
   "source": [
    "\n",
    "rdd2 = sc.parallelize(d2)\n",
    "rdd2.collect()"
   ]
  },
  {
   "cell_type": "code",
   "execution_count": 72,
   "metadata": {},
   "outputs": [
    {
     "data": {
      "text/plain": [
       "[('k1', 1), ('k2', 2), ('k3', 5), ('k1', 3), ('k2', 4), ('k4', 8)]"
      ]
     },
     "execution_count": 72,
     "metadata": {},
     "output_type": "execute_result"
    }
   ],
   "source": [
    "rdd3 = rdd1.union(rdd2)\n",
    "rdd3.collect()"
   ]
  },
  {
   "cell_type": "code",
   "execution_count": 73,
   "metadata": {},
   "outputs": [
    {
     "data": {
      "text/plain": [
       "[('k2', 6), ('k4', 8), ('k1', 4), ('k3', 5)]"
      ]
     },
     "execution_count": 73,
     "metadata": {},
     "output_type": "execute_result"
    }
   ],
   "source": [
    "rdd4 = rdd3.reduceByKey(lambda x,y: x+y)\n",
    "rdd4.collect()"
   ]
  },
  {
   "attachments": {},
   "cell_type": "markdown",
   "metadata": {},
   "source": [
    "## Bigrams"
   ]
  },
  {
   "cell_type": "code",
   "execution_count": 76,
   "metadata": {},
   "outputs": [
    {
     "data": {
      "text/plain": [
       "['crazy crazy fox jumped',\n",
       " 'crazy fox jumped',\n",
       " 'fox is fast',\n",
       " 'fox is smart',\n",
       " 'dog is smart']"
      ]
     },
     "execution_count": 76,
     "metadata": {},
     "output_type": "execute_result"
    }
   ],
   "source": [
    "lines = sc.textFile(\"data.txt\")\n",
    "lines.collect()"
   ]
  },
  {
   "cell_type": "code",
   "execution_count": 77,
   "metadata": {},
   "outputs": [],
   "source": [
    "bigrams = lines.map(lambda s : s.split(\" \")).flatMap(lambda s: [((s[i],s[i+1]),1) for i in range (0, len(s)-1)])"
   ]
  },
  {
   "cell_type": "code",
   "execution_count": 78,
   "metadata": {},
   "outputs": [
    {
     "data": {
      "text/plain": [
       "[(('crazy', 'crazy'), 1),\n",
       " (('crazy', 'fox'), 1),\n",
       " (('fox', 'jumped'), 1),\n",
       " (('crazy', 'fox'), 1),\n",
       " (('fox', 'jumped'), 1),\n",
       " (('fox', 'is'), 1),\n",
       " (('is', 'fast'), 1),\n",
       " (('fox', 'is'), 1),\n",
       " (('is', 'smart'), 1),\n",
       " (('dog', 'is'), 1),\n",
       " (('is', 'smart'), 1)]"
      ]
     },
     "execution_count": 78,
     "metadata": {},
     "output_type": "execute_result"
    }
   ],
   "source": [
    " bigrams.collect()"
   ]
  },
  {
   "cell_type": "code",
   "execution_count": 79,
   "metadata": {},
   "outputs": [
    {
     "data": {
      "text/plain": [
       "[(('crazy', 'crazy'), 1),\n",
       " (('crazy', 'fox'), 2),\n",
       " (('fox', 'jumped'), 2),\n",
       " (('fox', 'is'), 2),\n",
       " (('is', 'fast'), 1),\n",
       " (('is', 'smart'), 2),\n",
       " (('dog', 'is'), 1)]"
      ]
     },
     "execution_count": 79,
     "metadata": {},
     "output_type": "execute_result"
    }
   ],
   "source": [
    "counts = bigrams.reduceByKey(lambda x, y : x+y)\n",
    "counts.collect()"
   ]
  },
  {
   "attachments": {},
   "cell_type": "markdown",
   "metadata": {},
   "source": [
    "## cartisian"
   ]
  },
  {
   "cell_type": "code",
   "execution_count": 80,
   "metadata": {},
   "outputs": [
    {
     "data": {
      "text/plain": [
       "[('k1', 'v1'), ('k2', 'v2')]"
      ]
     },
     "execution_count": 80,
     "metadata": {},
     "output_type": "execute_result"
    }
   ],
   "source": [
    "a = [('k1','v1'), ('k2', 'v2')]\n",
    "a"
   ]
  },
  {
   "cell_type": "code",
   "execution_count": 81,
   "metadata": {},
   "outputs": [
    {
     "data": {
      "text/plain": [
       "[('k3', 'v3'), ('k4', 'v4'), ('k5', 'v5')]"
      ]
     },
     "execution_count": 81,
     "metadata": {},
     "output_type": "execute_result"
    }
   ],
   "source": [
    "b = [('k3','v3'), ('k4', 'v4'), ('k5', 'v5') ]\n",
    "b"
   ]
  },
  {
   "cell_type": "code",
   "execution_count": 82,
   "metadata": {},
   "outputs": [
    {
     "data": {
      "text/plain": [
       "[('k1', 'v1'), ('k2', 'v2')]"
      ]
     },
     "execution_count": 82,
     "metadata": {},
     "output_type": "execute_result"
    }
   ],
   "source": [
    "rdd1= sc.parallelize(a)\n",
    "rdd1.collect()"
   ]
  },
  {
   "cell_type": "code",
   "execution_count": 83,
   "metadata": {},
   "outputs": [
    {
     "data": {
      "text/plain": [
       "[('k3', 'v3'), ('k4', 'v4'), ('k5', 'v5')]"
      ]
     },
     "execution_count": 83,
     "metadata": {},
     "output_type": "execute_result"
    }
   ],
   "source": [
    "rdd2= sc.parallelize(b)\n",
    "rdd2.collect()"
   ]
  },
  {
   "cell_type": "code",
   "execution_count": 84,
   "metadata": {},
   "outputs": [
    {
     "data": {
      "text/plain": [
       "[(('k1', 'v1'), ('k3', 'v3')),\n",
       " (('k1', 'v1'), ('k4', 'v4')),\n",
       " (('k1', 'v1'), ('k5', 'v5')),\n",
       " (('k2', 'v2'), ('k3', 'v3')),\n",
       " (('k2', 'v2'), ('k4', 'v4')),\n",
       " (('k2', 'v2'), ('k5', 'v5'))]"
      ]
     },
     "execution_count": 84,
     "metadata": {},
     "output_type": "execute_result"
    }
   ],
   "source": [
    "rdd3 = rdd1.cartesian(rdd2)\n",
    "rdd3.collect()"
   ]
  },
  {
   "attachments": {},
   "cell_type": "markdown",
   "metadata": {},
   "source": [
    "## Combine-by-key"
   ]
  },
  {
   "cell_type": "code",
   "execution_count": 85,
   "metadata": {},
   "outputs": [],
   "source": [
    "input = [(\"k1\", 1), (\"k1\", 2), (\"k1\", 3), (\"k1\", 4), (\"k1\", 5), \n",
    "             (\"k2\", 6), (\"k2\", 7), (\"k2\", 8), \n",
    "             (\"k3\", 10), (\"k3\", 12)]\n",
    "rdd = sc.parallelize(input)"
   ]
  },
  {
   "cell_type": "code",
   "execution_count": 86,
   "metadata": {},
   "outputs": [
    {
     "data": {
      "text/plain": [
       "[('k1', (15, 5)), ('k2', (21, 3)), ('k3', (22, 2))]"
      ]
     },
     "execution_count": 86,
     "metadata": {},
     "output_type": "execute_result"
    }
   ],
   "source": [
    "sumCount = rdd.combineByKey( \n",
    "                                (lambda x: (x, 1)), \n",
    "                                (lambda x, y: (x[0] + y, x[1] + 1)), \n",
    "                                (lambda x, y: (x[0] + y[0], x[1] + y[1])) \n",
    "                               )\n",
    "sumCount.collect()"
   ]
  },
  {
   "cell_type": "code",
   "execution_count": 87,
   "metadata": {},
   "outputs": [
    {
     "data": {
      "text/plain": [
       "[('k1', 3.0), ('k2', 7.0), ('k3', 11.0)]"
      ]
     },
     "execution_count": 87,
     "metadata": {},
     "output_type": "execute_result"
    }
   ],
   "source": [
    "avg = sumCount.mapValues( lambda v : v[0] / v[1])\n",
    "avg.collect()"
   ]
  },
  {
   "cell_type": "code",
   "execution_count": null,
   "metadata": {},
   "outputs": [],
   "source": []
  }
 ],
 "metadata": {
  "kernelspec": {
   "display_name": "base",
   "language": "python",
   "name": "python3"
  },
  "language_info": {
   "codemirror_mode": {
    "name": "ipython",
    "version": 3
   },
   "file_extension": ".py",
   "mimetype": "text/x-python",
   "name": "python",
   "nbconvert_exporter": "python",
   "pygments_lexer": "ipython3",
   "version": "3.9.16"
  },
  "orig_nbformat": 4
 },
 "nbformat": 4,
 "nbformat_minor": 2
}
